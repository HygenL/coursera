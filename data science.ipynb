{
 "cells": [
  {
   "cell_type": "markdown",
   "id": "2ae72bfb",
   "metadata": {},
   "source": [
    "# Data Science Tools and Ecosystem"
   ]
  },
  {
   "cell_type": "markdown",
   "id": "3d7192a9",
   "metadata": {},
   "source": [
    "In this notebook, Data Science Tools and Ecosystem are summarized."
   ]
  },
  {
   "cell_type": "markdown",
   "id": "c4651e25",
   "metadata": {},
   "source": [
    "Some of the popular languages that Data Scientists use are:Python,R studio,Java"
   ]
  },
  {
   "cell_type": "markdown",
   "id": "58825f2c",
   "metadata": {},
   "source": [
    "# Objectives:"
   ]
  },
  {
   "cell_type": "markdown",
   "id": "3001a6bf",
   "metadata": {},
   "source": [
    "List popular languages for Data Science\n",
    "List data science libraries\n",
    "Introducie arithmetic expression examples"
   ]
  },
  {
   "cell_type": "markdown",
   "id": "f03110c5",
   "metadata": {},
   "source": [
    "Some of the commonly used libraries used by Data Scientists include: pandas,numpy,sklearn"
   ]
  },
  {
   "cell_type": "markdown",
   "id": "59c0ad6e",
   "metadata": {},
   "source": [
    "Data Science Tools"
   ]
  },
  {
   "cell_type": "code",
   "execution_count": 2,
   "id": "ce7d8526",
   "metadata": {},
   "outputs": [
    {
     "name": "stdout",
     "output_type": "stream",
     "text": [
      "  data science tools\n",
      "0             python\n",
      "1               java\n",
      "2           R studio\n"
     ]
    }
   ],
   "source": [
    "import pandas as pd\n",
    "data = {'data science tools':[\"python\",\"java\",\"R studio\"]}\n",
    "df = pd.DataFrame(data)\n",
    "print(df)"
   ]
  },
  {
   "cell_type": "markdown",
   "id": "d56cd6f2",
   "metadata": {},
   "source": [
    " # Below are a few examples of evaluating arithmetic expressions in Python"
   ]
  },
  {
   "cell_type": "code",
   "execution_count": 3,
   "id": "0d1f6c14",
   "metadata": {},
   "outputs": [
    {
     "data": {
      "text/plain": [
       "17"
      ]
     },
     "execution_count": 3,
     "metadata": {},
     "output_type": "execute_result"
    }
   ],
   "source": [
    "(3*4)+5"
   ]
  },
  {
   "cell_type": "code",
   "execution_count": 4,
   "id": "15130e30",
   "metadata": {},
   "outputs": [
    {
     "name": "stdout",
     "output_type": "stream",
     "text": [
      "3.3333333333333335\n"
     ]
    }
   ],
   "source": [
    "minutes = 200\n",
    "hours = minutes / 60\n",
    "print(hours)\n"
   ]
  },
  {
   "cell_type": "markdown",
   "id": "a5606da8",
   "metadata": {},
   "source": [
    "# Author\n",
    "Haizhen Liu"
   ]
  }
 ],
 "metadata": {
  "celltoolbar": "原始单元格格式",
  "kernelspec": {
   "display_name": "Python 3 (ipykernel)",
   "language": "python",
   "name": "python3"
  },
  "language_info": {
   "codemirror_mode": {
    "name": "ipython",
    "version": 3
   },
   "file_extension": ".py",
   "mimetype": "text/x-python",
   "name": "python",
   "nbconvert_exporter": "python",
   "pygments_lexer": "ipython3",
   "version": "3.9.13"
  }
 },
 "nbformat": 4,
 "nbformat_minor": 5
}
